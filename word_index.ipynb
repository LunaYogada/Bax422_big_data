{
 "cells": [
  {
   "cell_type": "code",
   "execution_count": 2,
   "metadata": {
    "collapsed": true
   },
   "outputs": [],
   "source": [
    "book = [[\"Mary\", \"Lamb\", \"Had\", \"A\"], [\"Little\", \"Lamb\"]]\n",
    "dic = {}"
   ]
  },
  {
   "cell_type": "markdown",
   "metadata": {},
   "source": [
    "# Using for loop"
   ]
  },
  {
   "cell_type": "code",
   "execution_count": 3,
   "metadata": {},
   "outputs": [
    {
     "name": "stdout",
     "output_type": "stream",
     "text": [
      "{'Mary': 1, 'Lamb': [1, 2], 'Had': 1, 'A': 1, 'Little': 2}\n"
     ]
    }
   ],
   "source": [
    "for page in book:\n",
    "    for word in page:\n",
    "        if word in dic:\n",
    "            dic[word] = [dic[word], book.index(page)+1]\n",
    "        else:\n",
    "            dic[word]=book.index(page)+1\n",
    "print(dic)"
   ]
  },
  {
   "cell_type": "markdown",
   "metadata": {},
   "source": [
    "# Using map"
   ]
  },
  {
   "cell_type": "code",
   "execution_count": 7,
   "metadata": {},
   "outputs": [
    {
     "name": "stdout",
     "output_type": "stream",
     "text": [
      "{'Mary': 1, 'Lamb': [1, 2], 'Had': 1, 'A': 1, 'Little': 2}\n"
     ]
    }
   ],
   "source": [
    "map(lambda page:\n",
    "    ((map(lambda word:\n",
    "         dic.update({word: dic[word] + [book.index(page) + 1]}) if word in dic\n",
    "         else dic.update({word:[book.index(page) + 1]}),\n",
    "         page)),\n",
    "    book))\n",
    "\n",
    "print(dic)"
   ]
  }
 ],
 "metadata": {
  "kernelspec": {
   "display_name": "Python 3",
   "language": "python",
   "name": "python3"
  },
  "language_info": {
   "codemirror_mode": {
    "name": "ipython",
    "version": 3
   },
   "file_extension": ".py",
   "mimetype": "text/x-python",
   "name": "python",
   "nbconvert_exporter": "python",
   "pygments_lexer": "ipython3",
   "version": "3.6.2"
  }
 },
 "nbformat": 4,
 "nbformat_minor": 2
}
